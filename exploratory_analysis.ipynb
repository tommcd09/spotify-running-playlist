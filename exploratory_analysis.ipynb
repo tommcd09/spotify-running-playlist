{
 "cells": [
  {
   "cell_type": "markdown",
   "id": "3eaaa932",
   "metadata": {},
   "source": [
    "# Exploratory Analysis of My Current Running Playlist\n",
    "\n",
    "Here, we will explore and analyze the data from my running playlist that we extracted and cleaned. Our goal is to identify traits of songs on my current running playlist that might help us choose new songs to add. "
   ]
  },
  {
   "cell_type": "code",
   "execution_count": 1,
   "id": "022c028f",
   "metadata": {},
   "outputs": [],
   "source": [
    "import pandas as pd\n",
    "import matplotlib.pyplot as plt\n",
    "import seaborn as sns\n",
    "from plottingfuncs import simple_boxplot, multiple_boxplots\n",
    "\n",
    "pd.options.display.max_rows = 10\n",
    "pd.set_option('display.float_format', lambda x: '%.2f' % x)"
   ]
  },
  {
   "cell_type": "markdown",
   "id": "ee148a5c",
   "metadata": {},
   "source": [
    "Let's import the track and genre data that we extracted in the previous notebook."
   ]
  },
  {
   "cell_type": "code",
   "execution_count": 2,
   "id": "64f9dedd",
   "metadata": {},
   "outputs": [],
   "source": [
    "tracks = pd.read_csv('./running_tracks_clean.csv')\n",
    "genres = pd.read_csv('./running_genres_clean.csv')"
   ]
  },
  {
   "cell_type": "markdown",
   "id": "60a9892c",
   "metadata": {},
   "source": [
    "And let's take a first look at the data."
   ]
  },
  {
   "cell_type": "code",
   "execution_count": 3,
   "id": "19c92044",
   "metadata": {},
   "outputs": [
    {
     "data": {
      "text/html": [
       "<div>\n",
       "<style scoped>\n",
       "    .dataframe tbody tr th:only-of-type {\n",
       "        vertical-align: middle;\n",
       "    }\n",
       "\n",
       "    .dataframe tbody tr th {\n",
       "        vertical-align: top;\n",
       "    }\n",
       "\n",
       "    .dataframe thead th {\n",
       "        text-align: right;\n",
       "    }\n",
       "</style>\n",
       "<table border=\"1\" class=\"dataframe\">\n",
       "  <thead>\n",
       "    <tr style=\"text-align: right;\">\n",
       "      <th></th>\n",
       "      <th>artist_genres</th>\n",
       "    </tr>\n",
       "  </thead>\n",
       "  <tbody>\n",
       "    <tr>\n",
       "      <th>0</th>\n",
       "      <td>dance pop</td>\n",
       "    </tr>\n",
       "    <tr>\n",
       "      <th>1</th>\n",
       "      <td>album rock</td>\n",
       "    </tr>\n",
       "    <tr>\n",
       "      <th>2</th>\n",
       "      <td>classic rock</td>\n",
       "    </tr>\n",
       "    <tr>\n",
       "      <th>3</th>\n",
       "      <td>mellow gold</td>\n",
       "    </tr>\n",
       "    <tr>\n",
       "      <th>4</th>\n",
       "      <td>rock</td>\n",
       "    </tr>\n",
       "    <tr>\n",
       "      <th>...</th>\n",
       "      <td>...</td>\n",
       "    </tr>\n",
       "    <tr>\n",
       "      <th>428</th>\n",
       "      <td>gangster rap</td>\n",
       "    </tr>\n",
       "    <tr>\n",
       "      <th>429</th>\n",
       "      <td>hardcore hip hop</td>\n",
       "    </tr>\n",
       "    <tr>\n",
       "      <th>430</th>\n",
       "      <td>hip hop</td>\n",
       "    </tr>\n",
       "    <tr>\n",
       "      <th>431</th>\n",
       "      <td>queens hip hop</td>\n",
       "    </tr>\n",
       "    <tr>\n",
       "      <th>432</th>\n",
       "      <td>rap</td>\n",
       "    </tr>\n",
       "  </tbody>\n",
       "</table>\n",
       "<p>433 rows × 1 columns</p>\n",
       "</div>"
      ],
      "text/plain": [
       "        artist_genres\n",
       "0           dance pop\n",
       "1          album rock\n",
       "2        classic rock\n",
       "3         mellow gold\n",
       "4                rock\n",
       "..                ...\n",
       "428      gangster rap\n",
       "429  hardcore hip hop\n",
       "430           hip hop\n",
       "431    queens hip hop\n",
       "432               rap\n",
       "\n",
       "[433 rows x 1 columns]"
      ]
     },
     "execution_count": 3,
     "metadata": {},
     "output_type": "execute_result"
    }
   ],
   "source": [
    "genres"
   ]
  },
  {
   "cell_type": "code",
   "execution_count": 4,
   "id": "ad2bc9a2",
   "metadata": {},
   "outputs": [
    {
     "data": {
      "text/html": [
       "<div>\n",
       "<style scoped>\n",
       "    .dataframe tbody tr th:only-of-type {\n",
       "        vertical-align: middle;\n",
       "    }\n",
       "\n",
       "    .dataframe tbody tr th {\n",
       "        vertical-align: top;\n",
       "    }\n",
       "\n",
       "    .dataframe thead th {\n",
       "        text-align: right;\n",
       "    }\n",
       "</style>\n",
       "<table border=\"1\" class=\"dataframe\">\n",
       "  <thead>\n",
       "    <tr style=\"text-align: right;\">\n",
       "      <th></th>\n",
       "      <th>danceability</th>\n",
       "      <th>energy</th>\n",
       "      <th>key</th>\n",
       "      <th>loudness</th>\n",
       "      <th>mode</th>\n",
       "      <th>speechiness</th>\n",
       "      <th>acousticness</th>\n",
       "      <th>instrumentalness</th>\n",
       "      <th>liveness</th>\n",
       "      <th>valence</th>\n",
       "      <th>tempo</th>\n",
       "      <th>id</th>\n",
       "      <th>duration_ms</th>\n",
       "      <th>time_signature</th>\n",
       "      <th>track_pop</th>\n",
       "      <th>name</th>\n",
       "      <th>artist</th>\n",
       "      <th>artist_id</th>\n",
       "    </tr>\n",
       "  </thead>\n",
       "  <tbody>\n",
       "    <tr>\n",
       "      <th>0</th>\n",
       "      <td>0.65</td>\n",
       "      <td>0.95</td>\n",
       "      <td>6</td>\n",
       "      <td>-4.72</td>\n",
       "      <td>1</td>\n",
       "      <td>0.10</td>\n",
       "      <td>0.13</td>\n",
       "      <td>0.00</td>\n",
       "      <td>0.15</td>\n",
       "      <td>0.51</td>\n",
       "      <td>91.91</td>\n",
       "      <td>0dCr3qIupWh36ilLjRHi4P</td>\n",
       "      <td>228333</td>\n",
       "      <td>4</td>\n",
       "      <td>0</td>\n",
       "      <td>Virtual Insanity - Remastered</td>\n",
       "      <td>Jamiroquai</td>\n",
       "      <td>6J7bCzzYhU3gM9j1wd</td>\n",
       "    </tr>\n",
       "    <tr>\n",
       "      <th>1</th>\n",
       "      <td>0.73</td>\n",
       "      <td>0.69</td>\n",
       "      <td>11</td>\n",
       "      <td>-7.16</td>\n",
       "      <td>0</td>\n",
       "      <td>0.04</td>\n",
       "      <td>0.04</td>\n",
       "      <td>0.00</td>\n",
       "      <td>0.10</td>\n",
       "      <td>0.81</td>\n",
       "      <td>88.75</td>\n",
       "      <td>4aKIs5t9TqP59btlCGPrgw</td>\n",
       "      <td>271893</td>\n",
       "      <td>4</td>\n",
       "      <td>0</td>\n",
       "      <td>Maneater</td>\n",
       "      <td>Daryl Hall &amp; John Oates</td>\n",
       "      <td>77T1kLj6mCWFNqOmP9H</td>\n",
       "    </tr>\n",
       "    <tr>\n",
       "      <th>2</th>\n",
       "      <td>0.52</td>\n",
       "      <td>0.55</td>\n",
       "      <td>6</td>\n",
       "      <td>-13.74</td>\n",
       "      <td>1</td>\n",
       "      <td>0.04</td>\n",
       "      <td>0.50</td>\n",
       "      <td>0.01</td>\n",
       "      <td>0.18</td>\n",
       "      <td>0.91</td>\n",
       "      <td>176.94</td>\n",
       "      <td>4gvea7UlDkAvsJBPZAd4oB</td>\n",
       "      <td>288733</td>\n",
       "      <td>4</td>\n",
       "      <td>75</td>\n",
       "      <td>The Boys Of Summer</td>\n",
       "      <td>Don Henley</td>\n",
       "      <td>5dbuFbH1SJlQhQX9OUJ2</td>\n",
       "    </tr>\n",
       "    <tr>\n",
       "      <th>3</th>\n",
       "      <td>0.58</td>\n",
       "      <td>0.83</td>\n",
       "      <td>1</td>\n",
       "      <td>-4.60</td>\n",
       "      <td>1</td>\n",
       "      <td>0.13</td>\n",
       "      <td>0.01</td>\n",
       "      <td>0.00</td>\n",
       "      <td>0.04</td>\n",
       "      <td>0.57</td>\n",
       "      <td>174.03</td>\n",
       "      <td>49FYlytm3dAAraYgpoJZux</td>\n",
       "      <td>275987</td>\n",
       "      <td>4</td>\n",
       "      <td>80</td>\n",
       "      <td>Umbrella</td>\n",
       "      <td>Rihanna</td>\n",
       "      <td>5KCCKE2jJHZ9KAK11H</td>\n",
       "    </tr>\n",
       "    <tr>\n",
       "      <th>4</th>\n",
       "      <td>0.54</td>\n",
       "      <td>0.81</td>\n",
       "      <td>0</td>\n",
       "      <td>-5.27</td>\n",
       "      <td>1</td>\n",
       "      <td>0.11</td>\n",
       "      <td>0.06</td>\n",
       "      <td>0.00</td>\n",
       "      <td>0.08</td>\n",
       "      <td>0.53</td>\n",
       "      <td>88.41</td>\n",
       "      <td>0oxxzbHXRNkBHOxayAh49N</td>\n",
       "      <td>228333</td>\n",
       "      <td>4</td>\n",
       "      <td>0</td>\n",
       "      <td>Why Can't This Be Love</td>\n",
       "      <td>Van Halen</td>\n",
       "      <td>2cnMROVqPMq7YFE6K</td>\n",
       "    </tr>\n",
       "    <tr>\n",
       "      <th>...</th>\n",
       "      <td>...</td>\n",
       "      <td>...</td>\n",
       "      <td>...</td>\n",
       "      <td>...</td>\n",
       "      <td>...</td>\n",
       "      <td>...</td>\n",
       "      <td>...</td>\n",
       "      <td>...</td>\n",
       "      <td>...</td>\n",
       "      <td>...</td>\n",
       "      <td>...</td>\n",
       "      <td>...</td>\n",
       "      <td>...</td>\n",
       "      <td>...</td>\n",
       "      <td>...</td>\n",
       "      <td>...</td>\n",
       "      <td>...</td>\n",
       "      <td>...</td>\n",
       "    </tr>\n",
       "    <tr>\n",
       "      <th>76</th>\n",
       "      <td>0.65</td>\n",
       "      <td>0.79</td>\n",
       "      <td>11</td>\n",
       "      <td>-7.02</td>\n",
       "      <td>0</td>\n",
       "      <td>0.27</td>\n",
       "      <td>0.01</td>\n",
       "      <td>0.00</td>\n",
       "      <td>0.27</td>\n",
       "      <td>0.58</td>\n",
       "      <td>175.29</td>\n",
       "      <td>6Ah1jYLTaxl8EeRHP0L0tY</td>\n",
       "      <td>243600</td>\n",
       "      <td>4</td>\n",
       "      <td>40</td>\n",
       "      <td>The Predator</td>\n",
       "      <td>Ice Cube</td>\n",
       "      <td>3Mc5XW6E0lY3Uk4cA</td>\n",
       "    </tr>\n",
       "    <tr>\n",
       "      <th>77</th>\n",
       "      <td>0.81</td>\n",
       "      <td>0.61</td>\n",
       "      <td>9</td>\n",
       "      <td>-5.91</td>\n",
       "      <td>1</td>\n",
       "      <td>0.19</td>\n",
       "      <td>0.03</td>\n",
       "      <td>0.00</td>\n",
       "      <td>0.04</td>\n",
       "      <td>0.48</td>\n",
       "      <td>91.06</td>\n",
       "      <td>76gJ7ATRkD3WZuYKPl84xm</td>\n",
       "      <td>255627</td>\n",
       "      <td>4</td>\n",
       "      <td>47</td>\n",
       "      <td>Y'All Gone Miss Me</td>\n",
       "      <td>Snoop Dogg</td>\n",
       "      <td>7hJcb94lzcOq3ENPG</td>\n",
       "    </tr>\n",
       "    <tr>\n",
       "      <th>78</th>\n",
       "      <td>0.84</td>\n",
       "      <td>0.61</td>\n",
       "      <td>10</td>\n",
       "      <td>-10.68</td>\n",
       "      <td>1</td>\n",
       "      <td>0.22</td>\n",
       "      <td>0.01</td>\n",
       "      <td>0.00</td>\n",
       "      <td>0.56</td>\n",
       "      <td>0.72</td>\n",
       "      <td>91.12</td>\n",
       "      <td>5thts3213xwSroRd11fv5A</td>\n",
       "      <td>296333</td>\n",
       "      <td>4</td>\n",
       "      <td>54</td>\n",
       "      <td>People Everyday - Metamorphosis Mix</td>\n",
       "      <td>Arrested Development</td>\n",
       "      <td>5V9LuEmZxnbk1gMnjMD7</td>\n",
       "    </tr>\n",
       "    <tr>\n",
       "      <th>79</th>\n",
       "      <td>0.51</td>\n",
       "      <td>0.82</td>\n",
       "      <td>1</td>\n",
       "      <td>-8.82</td>\n",
       "      <td>0</td>\n",
       "      <td>0.37</td>\n",
       "      <td>0.25</td>\n",
       "      <td>0.00</td>\n",
       "      <td>0.34</td>\n",
       "      <td>0.56</td>\n",
       "      <td>181.80</td>\n",
       "      <td>5mOzvm41Pdh1WOtBKlCtZd</td>\n",
       "      <td>272867</td>\n",
       "      <td>4</td>\n",
       "      <td>47</td>\n",
       "      <td>B.I.B.L.E. (Basic Instructions Before Leaving ...</td>\n",
       "      <td>GZA</td>\n",
       "      <td>6n6XAOw4B0nDUIvAOUO</td>\n",
       "    </tr>\n",
       "    <tr>\n",
       "      <th>80</th>\n",
       "      <td>0.73</td>\n",
       "      <td>0.76</td>\n",
       "      <td>0</td>\n",
       "      <td>-9.20</td>\n",
       "      <td>1</td>\n",
       "      <td>0.26</td>\n",
       "      <td>0.17</td>\n",
       "      <td>0.00</td>\n",
       "      <td>0.10</td>\n",
       "      <td>0.87</td>\n",
       "      <td>91.36</td>\n",
       "      <td>4HphiT6pmqBZiNHkyJCgBQ</td>\n",
       "      <td>262960</td>\n",
       "      <td>4</td>\n",
       "      <td>39</td>\n",
       "      <td>Black Girl Lost (feat. JoJo Hailey)</td>\n",
       "      <td>Nas</td>\n",
       "      <td>20qISvAhX20dIbOOzGK3q</td>\n",
       "    </tr>\n",
       "  </tbody>\n",
       "</table>\n",
       "<p>81 rows × 18 columns</p>\n",
       "</div>"
      ],
      "text/plain": [
       "    danceability  energy  key  loudness  mode  speechiness  acousticness  \\\n",
       "0           0.65    0.95    6     -4.72     1         0.10          0.13   \n",
       "1           0.73    0.69   11     -7.16     0         0.04          0.04   \n",
       "2           0.52    0.55    6    -13.74     1         0.04          0.50   \n",
       "3           0.58    0.83    1     -4.60     1         0.13          0.01   \n",
       "4           0.54    0.81    0     -5.27     1         0.11          0.06   \n",
       "..           ...     ...  ...       ...   ...          ...           ...   \n",
       "76          0.65    0.79   11     -7.02     0         0.27          0.01   \n",
       "77          0.81    0.61    9     -5.91     1         0.19          0.03   \n",
       "78          0.84    0.61   10    -10.68     1         0.22          0.01   \n",
       "79          0.51    0.82    1     -8.82     0         0.37          0.25   \n",
       "80          0.73    0.76    0     -9.20     1         0.26          0.17   \n",
       "\n",
       "    instrumentalness  liveness  valence  tempo                      id  \\\n",
       "0               0.00      0.15     0.51  91.91  0dCr3qIupWh36ilLjRHi4P   \n",
       "1               0.00      0.10     0.81  88.75  4aKIs5t9TqP59btlCGPrgw   \n",
       "2               0.01      0.18     0.91 176.94  4gvea7UlDkAvsJBPZAd4oB   \n",
       "3               0.00      0.04     0.57 174.03  49FYlytm3dAAraYgpoJZux   \n",
       "4               0.00      0.08     0.53  88.41  0oxxzbHXRNkBHOxayAh49N   \n",
       "..               ...       ...      ...    ...                     ...   \n",
       "76              0.00      0.27     0.58 175.29  6Ah1jYLTaxl8EeRHP0L0tY   \n",
       "77              0.00      0.04     0.48  91.06  76gJ7ATRkD3WZuYKPl84xm   \n",
       "78              0.00      0.56     0.72  91.12  5thts3213xwSroRd11fv5A   \n",
       "79              0.00      0.34     0.56 181.80  5mOzvm41Pdh1WOtBKlCtZd   \n",
       "80              0.00      0.10     0.87  91.36  4HphiT6pmqBZiNHkyJCgBQ   \n",
       "\n",
       "    duration_ms  time_signature  track_pop  \\\n",
       "0        228333               4          0   \n",
       "1        271893               4          0   \n",
       "2        288733               4         75   \n",
       "3        275987               4         80   \n",
       "4        228333               4          0   \n",
       "..          ...             ...        ...   \n",
       "76       243600               4         40   \n",
       "77       255627               4         47   \n",
       "78       296333               4         54   \n",
       "79       272867               4         47   \n",
       "80       262960               4         39   \n",
       "\n",
       "                                                 name  \\\n",
       "0                       Virtual Insanity - Remastered   \n",
       "1                                            Maneater   \n",
       "2                                  The Boys Of Summer   \n",
       "3                                            Umbrella   \n",
       "4                              Why Can't This Be Love   \n",
       "..                                                ...   \n",
       "76                                       The Predator   \n",
       "77                                 Y'All Gone Miss Me   \n",
       "78                People Everyday - Metamorphosis Mix   \n",
       "79  B.I.B.L.E. (Basic Instructions Before Leaving ...   \n",
       "80                Black Girl Lost (feat. JoJo Hailey)   \n",
       "\n",
       "                     artist              artist_id  \n",
       "0                Jamiroquai     6J7bCzzYhU3gM9j1wd  \n",
       "1   Daryl Hall & John Oates    77T1kLj6mCWFNqOmP9H  \n",
       "2                Don Henley   5dbuFbH1SJlQhQX9OUJ2  \n",
       "3                   Rihanna     5KCCKE2jJHZ9KAK11H  \n",
       "4                 Van Halen      2cnMROVqPMq7YFE6K  \n",
       "..                      ...                    ...  \n",
       "76                 Ice Cube      3Mc5XW6E0lY3Uk4cA  \n",
       "77               Snoop Dogg      7hJcb94lzcOq3ENPG  \n",
       "78     Arrested Development   5V9LuEmZxnbk1gMnjMD7  \n",
       "79                      GZA    6n6XAOw4B0nDUIvAOUO  \n",
       "80                      Nas  20qISvAhX20dIbOOzGK3q  \n",
       "\n",
       "[81 rows x 18 columns]"
      ]
     },
     "execution_count": 4,
     "metadata": {},
     "output_type": "execute_result"
    }
   ],
   "source": [
    "tracks"
   ]
  },
  {
   "cell_type": "markdown",
   "id": "f79ca66e",
   "metadata": {},
   "source": [
    "## I. Genre Analysis\n",
    "\n",
    "Before diving into audio features, let's take a look at genres. We likely want to limit songs we search for to the genres that I listen to most frequently. Each track in my playlist has a main artist, and each artist has potentially several genres. The genres DataFrame is just a list of each of these genres with one genre per row. Therefore, artists whose songs appear more frequently in the playlist will have genres that appear more frequently in the genres DataFrame. We can count how many times each genre appears in the list and sort this in descending order to get a sense of which genres appear most frequently in the playlist."
   ]
  },
  {
   "cell_type": "code",
   "execution_count": 5,
   "id": "8c133836",
   "metadata": {
    "scrolled": false
   },
   "outputs": [
    {
     "data": {
      "text/plain": [
       "hip hop                       42\n",
       "rap                           29\n",
       "east coast hip hop            27\n",
       "hardcore hip hop              26\n",
       "conscious hip hop             19\n",
       "gangster rap                  19\n",
       "alternative hip hop           18\n",
       "pop                           17\n",
       "southern hip hop              13\n",
       "rock                          12\n",
       "political hip hop             10\n",
       "album rock                     9\n",
       "classic rock                   9\n",
       "dance pop                      8\n",
       "hard rock                      7\n",
       "west coast rap                 7\n",
       "g funk                         7\n",
       "philly rap                     7\n",
       "pop rap                        7\n",
       "queens hip hop                 6\n",
       "canadian contemporary r&b      6\n",
       "canadian pop                   6\n",
       "art rock                       5\n",
       "neue deutsche harte            4\n",
       "neo soul                       4\n",
       "industrial rock                4\n",
       "industrial metal               4\n",
       "industrial                     4\n",
       "permanent wave                 4\n",
       "german metal                   4\n",
       "alternative metal              4\n",
       "urban contemporary             4\n",
       "mellow gold                    4\n",
       "soft rock                      4\n",
       "australian pop                 3\n",
       "australian dance               3\n",
       "metal                          3\n",
       "r&b                            3\n",
       "alternative rock               2\n",
       "chicago rap                    2\n",
       "hip pop                        2\n",
       "quiet storm                    2\n",
       "barbadian pop                  2\n",
       "singer-songwriter              2\n",
       "soul                           2\n",
       "detroit hip hop                2\n",
       "jazz rap                       2\n",
       "melancholia                    2\n",
       "yacht rock                     2\n",
       "funk metal                     1\n",
       "lgbtq+ hip hop                 1\n",
       "electropop                     1\n",
       "post-teen pop                  1\n",
       "uk pop                         1\n",
       "big room                       1\n",
       "atl hip hop                    1\n",
       "edm                            1\n",
       "funk rock                      1\n",
       "old school hip hop             1\n",
       "golden age hip hop             1\n",
       "pop dance                      1\n",
       "canadian metal                 1\n",
       "classic canadian rock          1\n",
       "alternative r&b                1\n",
       "progressive rock               1\n",
       "new wave                       1\n",
       "dirty south rap                1\n",
       "folk rock                      1\n",
       "abstract hip hop               1\n",
       "australian rock                1\n",
       "post-disco                     1\n",
       "oxford indie                   1\n",
       "afrofuturism                   1\n",
       "psychedelic hip hop            1\n",
       "classic soul                   1\n",
       "disco                          1\n",
       "funk                           1\n",
       "jazz funk                      1\n",
       "boy band                       1\n",
       "rock drums                     1\n",
       "heartland rock                 1\n",
       "pop rock                       1\n",
       "new jack swing                 1\n",
       "country rock                   1\n",
       "turntablism                    1\n",
       "contemporary r&b               1\n",
       "new jersey rap                 1\n",
       "old school atlanta hip hop     1\n",
       "Name: artist_genres, dtype: int64"
      ]
     },
     "execution_count": 5,
     "metadata": {},
     "output_type": "execute_result"
    }
   ],
   "source": [
    "pd.options.display.max_rows = 100\n",
    "genres['artist_genres'].value_counts()"
   ]
  },
  {
   "cell_type": "markdown",
   "id": "0a727033",
   "metadata": {},
   "source": [
    "We can see a lot of hip hop on this list! While I grew up playing and listening to a wide variety of genres, I only really got into hip hop music when I started running seriously. Hip hop music usually has a strong beat and a strong sense of flow, which I find really helpful when I am running and trying to maintain a pace.\n",
    "\n",
    "Let's choose the genres that appear 5 or more times (the top 23) and visualize these in a \"Top Genres\" bar chart. This gives some variety beyond hip hop but is not too crowded."
   ]
  },
  {
   "cell_type": "code",
   "execution_count": 6,
   "id": "08a95d1f",
   "metadata": {
    "scrolled": false
   },
   "outputs": [
    {
     "data": {
      "image/png": "[encoded data removed]",
      "text/plain": [
       "<Figure size 1080x360 with 1 Axes>"
      ]
     },
     "metadata": {
      "needs_background": "light"
     },
     "output_type": "display_data"
    }
   ],
   "source": [
    "top_genres = genres['artist_genres'].value_counts()[:23]\n",
    "top_genres.plot(kind='bar', title =\"Top Genres\", figsize=(15, 5))\n",
    "plt.show()"
   ]
  },
  {
   "cell_type": "markdown",
   "id": "ae1a5ee3",
   "metadata": {},
   "source": [
    "Let's export these top genres to a .csv file. We will use these genres later when we search for songs."
   ]
  },
  {
   "cell_type": "code",
   "execution_count": 7,
   "id": "eb5a9065",
   "metadata": {},
   "outputs": [],
   "source": [
    "top_genres.to_csv('./top_genres.csv')"
   ]
  },
  {
   "cell_type": "markdown",
   "id": "1f20bd56",
   "metadata": {},
   "source": [
    "## II. Artists Analysis\n",
    "\n",
    "Similar to genres, let's look the artists who appear most frequently in the playlist. We may want to choose more songs from these artists when searching our database."
   ]
  },
  {
   "cell_type": "code",
   "execution_count": 8,
   "id": "1c326878",
   "metadata": {},
   "outputs": [
    {
     "data": {
      "text/plain": [
       "The Roots                  7\n",
       "The Weeknd                 6\n",
       "Nas                        6\n",
       "JAY-Z                      5\n",
       "Rammstein                  4\n",
       "Black Star                 3\n",
       "Sia                        3\n",
       "Aerosmith                  2\n",
       "2Pac                       2\n",
       "Kanye West                 2\n",
       "Ice Cube                   2\n",
       "Van Halen                  2\n",
       "Rihanna                    2\n",
       "Snoop Dogg                 2\n",
       "Rush                       1\n",
       "Led Zeppelin               1\n",
       "David Guetta               1\n",
       "ZAYN                       1\n",
       "The Notorious B.I.G.       1\n",
       "Frank Ocean                1\n",
       "Jamiroquai                 1\n",
       "Peter Gabriel              1\n",
       "Doja Cat                   1\n",
       "Jeff Buckley               1\n",
       "Michael Jackson            1\n",
       "Geto Boys                  1\n",
       "Red Hot Chili Peppers      1\n",
       "Arrested Development       1\n",
       "AC/DC                      1\n",
       "Ms. Lauryn Hill            1\n",
       "J Dilla                    1\n",
       "The Brothers Johnson       1\n",
       "Don Henley                 1\n",
       "Blackstreet                1\n",
       "Radiohead                  1\n",
       "Deltron 3030               1\n",
       "Method Man                 1\n",
       "The Pharcyde               1\n",
       "Mos Def                    1\n",
       "Slum Village               1\n",
       "Ghostface Killah           1\n",
       "Hieroglyphics              1\n",
       "Daryl Hall & John Oates    1\n",
       "Bruno Mars                 1\n",
       "Rakim                      1\n",
       "Phil Collins               1\n",
       "GZA                        1\n",
       "Name: artist, dtype: int64"
      ]
     },
     "execution_count": 8,
     "metadata": {},
     "output_type": "execute_result"
    }
   ],
   "source": [
    "artists = tracks['artist'].value_counts()\n",
    "artists"
   ]
  },
  {
   "cell_type": "markdown",
   "id": "41123de2",
   "metadata": {},
   "source": [
    "Many artists appear only once, but the top artists appear much more frequently. The Roots, one of my favorite groups, appear 7 times in the 81 song playlist.\n",
    "\n",
    "Let's create a bar chart of \"Top Artists\" that includes each artist who appears more than once in the playlist."
   ]
  },
  {
   "cell_type": "code",
   "execution_count": 9,
   "id": "6c54d90b",
   "metadata": {},
   "outputs": [
    {
     "data": {
      "image/png": "[encoded data removed]",
      "text/plain": [
       "<Figure size 1080x360 with 1 Axes>"
      ]
     },
     "metadata": {
      "needs_background": "light"
     },
     "output_type": "display_data"
    }
   ],
   "source": [
    "top_artists = tracks['artist'].value_counts()[:14]\n",
    "top_artists.plot(kind='bar', title=\"Top Artists\", figsize=(15, 5))\n",
    "plt.show()"
   ]
  },
  {
   "cell_type": "markdown",
   "id": "64fdac04",
   "metadata": {},
   "source": [
    "As we did with genres, let's export these top artists to a .csv file. While most if not all of this information is likely captured in the genre data, my top artists might also help find relevant songs."
   ]
  },
  {
   "cell_type": "code",
   "execution_count": 10,
   "id": "687cc9f3",
   "metadata": {},
   "outputs": [],
   "source": [
    "top_artists.to_csv('./top_artists.csv')"
   ]
  },
  {
   "cell_type": "markdown",
   "id": "0f990767",
   "metadata": {},
   "source": [
    "## III. Audio Features Analysis\n",
    "\n",
    "Now let's figure out what kinds of audio features are common in the songs I like. First, let's view the descriptive statistics for the songs on the playlist."
   ]
  },
  {
   "cell_type": "code",
   "execution_count": 11,
   "id": "82f37d52",
   "metadata": {},
   "outputs": [
    {
     "data": {
      "text/html": [
       "<div>\n",
       "<style scoped>\n",
       "    .dataframe tbody tr th:only-of-type {\n",
       "        vertical-align: middle;\n",
       "    }\n",
       "\n",
       "    .dataframe tbody tr th {\n",
       "        vertical-align: top;\n",
       "    }\n",
       "\n",
       "    .dataframe thead th {\n",
       "        text-align: right;\n",
       "    }\n",
       "</style>\n",
       "<table border=\"1\" class=\"dataframe\">\n",
       "  <thead>\n",
       "    <tr style=\"text-align: right;\">\n",
       "      <th></th>\n",
       "      <th>danceability</th>\n",
       "      <th>energy</th>\n",
       "      <th>key</th>\n",
       "      <th>loudness</th>\n",
       "      <th>mode</th>\n",
       "      <th>speechiness</th>\n",
       "      <th>acousticness</th>\n",
       "      <th>instrumentalness</th>\n",
       "      <th>liveness</th>\n",
       "      <th>valence</th>\n",
       "      <th>tempo</th>\n",
       "      <th>duration_ms</th>\n",
       "      <th>time_signature</th>\n",
       "      <th>track_pop</th>\n",
       "    </tr>\n",
       "  </thead>\n",
       "  <tbody>\n",
       "    <tr>\n",
       "      <th>count</th>\n",
       "      <td>81.00</td>\n",
       "      <td>81.00</td>\n",
       "      <td>81.00</td>\n",
       "      <td>81.00</td>\n",
       "      <td>81.00</td>\n",
       "      <td>81.00</td>\n",
       "      <td>81.00</td>\n",
       "      <td>81.00</td>\n",
       "      <td>81.00</td>\n",
       "      <td>81.00</td>\n",
       "      <td>81.00</td>\n",
       "      <td>81.00</td>\n",
       "      <td>81.00</td>\n",
       "      <td>81.00</td>\n",
       "    </tr>\n",
       "    <tr>\n",
       "      <th>mean</th>\n",
       "      <td>0.63</td>\n",
       "      <td>0.70</td>\n",
       "      <td>5.31</td>\n",
       "      <td>-6.65</td>\n",
       "      <td>0.60</td>\n",
       "      <td>0.18</td>\n",
       "      <td>0.13</td>\n",
       "      <td>0.02</td>\n",
       "      <td>0.20</td>\n",
       "      <td>0.53</td>\n",
       "      <td>114.45</td>\n",
       "      <td>260724.85</td>\n",
       "      <td>4.01</td>\n",
       "      <td>50.00</td>\n",
       "    </tr>\n",
       "    <tr>\n",
       "      <th>std</th>\n",
       "      <td>0.16</td>\n",
       "      <td>0.15</td>\n",
       "      <td>4.05</td>\n",
       "      <td>2.41</td>\n",
       "      <td>0.49</td>\n",
       "      <td>0.13</td>\n",
       "      <td>0.15</td>\n",
       "      <td>0.08</td>\n",
       "      <td>0.17</td>\n",
       "      <td>0.22</td>\n",
       "      <td>39.05</td>\n",
       "      <td>42663.43</td>\n",
       "      <td>0.11</td>\n",
       "      <td>24.59</td>\n",
       "    </tr>\n",
       "    <tr>\n",
       "      <th>min</th>\n",
       "      <td>0.24</td>\n",
       "      <td>0.24</td>\n",
       "      <td>0.00</td>\n",
       "      <td>-13.95</td>\n",
       "      <td>0.00</td>\n",
       "      <td>0.03</td>\n",
       "      <td>0.00</td>\n",
       "      <td>0.00</td>\n",
       "      <td>0.04</td>\n",
       "      <td>0.10</td>\n",
       "      <td>81.47</td>\n",
       "      <td>177120.00</td>\n",
       "      <td>4.00</td>\n",
       "      <td>0.00</td>\n",
       "    </tr>\n",
       "    <tr>\n",
       "      <th>25%</th>\n",
       "      <td>0.52</td>\n",
       "      <td>0.61</td>\n",
       "      <td>1.00</td>\n",
       "      <td>-7.74</td>\n",
       "      <td>0.00</td>\n",
       "      <td>0.05</td>\n",
       "      <td>0.01</td>\n",
       "      <td>0.00</td>\n",
       "      <td>0.09</td>\n",
       "      <td>0.39</td>\n",
       "      <td>89.68</td>\n",
       "      <td>229827.00</td>\n",
       "      <td>4.00</td>\n",
       "      <td>39.00</td>\n",
       "    </tr>\n",
       "    <tr>\n",
       "      <th>50%</th>\n",
       "      <td>0.65</td>\n",
       "      <td>0.71</td>\n",
       "      <td>6.00</td>\n",
       "      <td>-6.19</td>\n",
       "      <td>1.00</td>\n",
       "      <td>0.14</td>\n",
       "      <td>0.05</td>\n",
       "      <td>0.00</td>\n",
       "      <td>0.14</td>\n",
       "      <td>0.54</td>\n",
       "      <td>92.08</td>\n",
       "      <td>256347.00</td>\n",
       "      <td>4.00</td>\n",
       "      <td>54.00</td>\n",
       "    </tr>\n",
       "    <tr>\n",
       "      <th>75%</th>\n",
       "      <td>0.75</td>\n",
       "      <td>0.82</td>\n",
       "      <td>9.00</td>\n",
       "      <td>-5.27</td>\n",
       "      <td>1.00</td>\n",
       "      <td>0.26</td>\n",
       "      <td>0.20</td>\n",
       "      <td>0.00</td>\n",
       "      <td>0.27</td>\n",
       "      <td>0.72</td>\n",
       "      <td>171.00</td>\n",
       "      <td>283227.00</td>\n",
       "      <td>4.00</td>\n",
       "      <td>70.00</td>\n",
       "    </tr>\n",
       "    <tr>\n",
       "      <th>max</th>\n",
       "      <td>0.90</td>\n",
       "      <td>0.97</td>\n",
       "      <td>11.00</td>\n",
       "      <td>-2.08</td>\n",
       "      <td>1.00</td>\n",
       "      <td>0.53</td>\n",
       "      <td>0.61</td>\n",
       "      <td>0.50</td>\n",
       "      <td>0.90</td>\n",
       "      <td>0.92</td>\n",
       "      <td>189.51</td>\n",
       "      <td>405213.00</td>\n",
       "      <td>5.00</td>\n",
       "      <td>89.00</td>\n",
       "    </tr>\n",
       "  </tbody>\n",
       "</table>\n",
       "</div>"
      ],
      "text/plain": [
       "       danceability  energy   key  loudness  mode  speechiness  acousticness  \\\n",
       "count         81.00   81.00 81.00     81.00 81.00        81.00         81.00   \n",
       "mean           0.63    0.70  5.31     -6.65  0.60         0.18          0.13   \n",
       "std            0.16    0.15  4.05      2.41  0.49         0.13          0.15   \n",
       "min            0.24    0.24  0.00    -13.95  0.00         0.03          0.00   \n",
       "25%            0.52    0.61  1.00     -7.74  0.00         0.05          0.01   \n",
       "50%            0.65    0.71  6.00     -6.19  1.00         0.14          0.05   \n",
       "75%            0.75    0.82  9.00     -5.27  1.00         0.26          0.20   \n",
       "max            0.90    0.97 11.00     -2.08  1.00         0.53          0.61   \n",
       "\n",
       "       instrumentalness  liveness  valence  tempo  duration_ms  \\\n",
       "count             81.00     81.00    81.00  81.00        81.00   \n",
       "mean               0.02      0.20     0.53 114.45    260724.85   \n",
       "std                0.08      0.17     0.22  39.05     42663.43   \n",
       "min                0.00      0.04     0.10  81.47    177120.00   \n",
       "25%                0.00      0.09     0.39  89.68    229827.00   \n",
       "50%                0.00      0.14     0.54  92.08    256347.00   \n",
       "75%                0.00      0.27     0.72 171.00    283227.00   \n",
       "max                0.50      0.90     0.92 189.51    405213.00   \n",
       "\n",
       "       time_signature  track_pop  \n",
       "count           81.00      81.00  \n",
       "mean             4.01      50.00  \n",
       "std              0.11      24.59  \n",
       "min              4.00       0.00  \n",
       "25%              4.00      39.00  \n",
       "50%              4.00      54.00  \n",
       "75%              4.00      70.00  \n",
       "max              5.00      89.00  "
      ]
     },
     "execution_count": 11,
     "metadata": {},
     "output_type": "execute_result"
    }
   ],
   "source": [
    "tracks.describe()"
   ]
  },
  {
   "cell_type": "markdown",
   "id": "b588b4bd",
   "metadata": {},
   "source": [
    "This table contains a lot of interesting information. For example, songs on my running playlist tend to have both high danceability and high energy, and the overall instrumentalness is very low. However, this table is also a bit difficult to read. It would be easier to visualize the distributions of these different features using box plots. \n",
    "\n",
    "### 1. Danceability, Energy, Speechiness, Acousticness, Liveness, and Valence\n",
    "\n",
    "First, let's look at danceability, energy, speechiness, acousticness, liveness, and valence. These all have values that range from 0 to 1. The Spotify documentation [1] describes these features in the following way:\n",
    "\n",
    "* <b>Danceability</b>: Danceability describes how suitable a track is for dancing based on a combination of musical elements including tempo, rhythm stability, beat strength, and overall regularity. A value of 0.0 is least danceable and 1.0 is most danceable.\n",
    "* <b>Energy</b>: Energy is a measure from 0.0 to 1.0 and represents a perceptual measure of intensity and activity. Typically, energetic tracks feel fast, loud, and noisy. For example, death metal has high energy, while a Bach prelude scores low on the scale. Perceptual features contributing to this attribute include dynamic range, perceived loudness, timbre, onset rate, and general entropy.\n",
    "* <b>Speechiness</b>: Speechiness detects the presence of spoken words in a track. The more exclusively speech-like the recording (e.g. talk show, audio book, poetry), the closer to 1.0 the attribute value. Values above 0.66 describe tracks that are probably made entirely of spoken words. Values between 0.33 and 0.66 describe tracks that may contain both music and speech, either in sections or layered, including such cases as rap music. Values below 0.33 most likely represent music and other non-speech-like tracks.\n",
    "* <b>Acousticness</b>: A confidence measure from 0.0 to 1.0 of whether the track is acoustic. 1.0 represents high confidence the track is acoustic.\n",
    "* <b>Liveness</b>: Detects the presence of an audience in the recording. Higher liveness values represent an increased probability that the track was performed live. A value above 0.8 provides strong likelihood that the track is live.\n",
    "* <b>Valence</b>: A measure from 0.0 to 1.0 describing the musical positiveness conveyed by a track. Tracks with high valence sound more positive (e.g. happy, cheerful, euphoric), while tracks with low valence sound more negative (e.g. sad, depressed, angry)."
   ]
  },
  {
   "cell_type": "code",
   "execution_count": 12,
   "id": "ffef3bc2",
   "metadata": {},
   "outputs": [
    {
     "data": {
      "image/png": "[encoded data removed]",
      "text/plain": [
       "<Figure size 1080x720 with 6 Axes>"
      ]
     },
     "metadata": {},
     "output_type": "display_data"
    }
   ],
   "source": [
    "sns.set_style('white')\n",
    "sns.set_palette('colorblind')\n",
    "\n",
    "cols = ['danceability', 'energy', 'speechiness', 'acousticness', 'liveness', 'valence']\n",
    "multiple_boxplots(tracks, cols, 2, 3, (15, 10))\n",
    "plt.show()"
   ]
  },
  {
   "cell_type": "markdown",
   "id": "11efc175",
   "metadata": {},
   "source": [
    "As noted above, the tracks I listen to while running tend to be more danceable and higher energy, which makes a lot of sense for a running playlist. While these attributes have a wide range, these tracks have a 25th percentile danceability score of 0.52 and a 25th percentile energy score of 0.61. These tracks also have low speechiness and acousticness scores, with a 75th percentile speechiness score of 0.26 and a 75th percentile acousticness score of 0.20. \n",
    "\n",
    "While these tracks have a 75th percentile liveness score of 0.27, I do not see this as being a significant factor in making a playlist. I would guess that most music on Spotify is not recorded live anyway, and I wouldn't want to exclude great live tracks, which can be even better than the originals.\n",
    "\n",
    "The valence data is interesting. While I would have expected the tracks on a running playlist to be mostly positive, it seems like a fairly even split between positive and negative, with a median slightly on the positive side at 0.54. It's possible that a variety of emotions in the songs I listen to on a run just makes it more interesting. Still, I'd prefer to add more songs that are positive overall, so we might want to limit valence on the low side to the 25th percentile, which is 0.39.\n",
    "\n",
    "### 2. Instrumentalness\n",
    "\n",
    "Next, let's look at instrumentalness. The Spotify documentation [1] has the following to say about instrumentalness:\n",
    "\n",
    "* <b>Instrumentalness</b>: Predicts whether a track contains no vocals. \"Ooh\" and \"aah\" sounds are treated as instrumental in this context. Rap or spoken word tracks are clearly \"vocal\". The closer the instrumentalness value is to 1.0, the greater likelihood the track contains no vocal content. Values above 0.5 are intended to represent instrumental tracks, but confidence is higher as the value approaches 1.0."
   ]
  },
  {
   "cell_type": "code",
   "execution_count": 13,
   "id": "6608ebda",
   "metadata": {},
   "outputs": [
    {
     "data": {
      "image/png": "[encoded data removed]",
      "text/plain": [
       "<Figure size 432x288 with 1 Axes>"
      ]
     },
     "metadata": {},
     "output_type": "display_data"
    }
   ],
   "source": [
    "simple_boxplot(tracks, 'instrumentalness', 'Instrumentalness')\n",
    "plt.show()"
   ]
  },
  {
   "cell_type": "markdown",
   "id": "7e0fb474",
   "metadata": {},
   "source": [
    "Pretty much every song on my playlist has vocals, so it isn't surprising that the instrumentalness scores are very low. Some songs are largely instrumental with some sampled vocals, so those are likely the ones that score on the higher end. However, as with liveness, I don't view this as a reason to limit playlist songs to only those with vocals. I grew up listening to lots of jazz and classical music, so I have come to enjoy lots of music that is entirely instrumental. Most popular music today has vocals anyway, so it seems likely that the data just reflects this trend and not any kind of preference on my part.\n",
    "\n",
    "### 3. Duration\n",
    "\n",
    "Next, let's look at duration_ms. This is simply the duration of each track in milliseconds [1]. Let's first convert this to minutes so it is easier to interpret."
   ]
  },
  {
   "cell_type": "code",
   "execution_count": 14,
   "id": "3bb151d2",
   "metadata": {},
   "outputs": [
    {
     "data": {
      "image/png": "[encoded data removed]",
      "text/plain": [
       "<Figure size 432x288 with 1 Axes>"
      ]
     },
     "metadata": {},
     "output_type": "display_data"
    }
   ],
   "source": [
    "tracks['duration_mins'] = tracks['duration_ms'].values/60000\n",
    "simple_boxplot(tracks, 'duration_mins', 'Duration (minutes)')\n",
    "plt.show()"
   ]
  },
  {
   "cell_type": "markdown",
   "id": "8788093b",
   "metadata": {},
   "source": [
    "The median track is around 4.5 minutes, though track lengths vary from less than 3 minutes to almost 7 minutes. Again, I don't view track length as a limiting factor for the playlist. I like to run for long distances and am happy to listen to a 20 minute song if it is interesting and energetic enough.\n",
    "\n",
    "### 4. Time Signature\n",
    "\n",
    "Let's look at time signature. Spotify has the following to say about time signature [1]:\n",
    "\n",
    "* <b>time_signature:</b> An estimated time signature. The time signature (meter) is a notational convention to specify how many beats are in each bar (or measure). The time signature ranges from 3 to 7 indicating time signatures of \"3/4\", to \"7/4\".\n",
    "\n",
    "Let's exclude any time signatures that are out of the 3 to 7 range."
   ]
  },
  {
   "cell_type": "code",
   "execution_count": 15,
   "id": "e0a3ca5c",
   "metadata": {},
   "outputs": [
    {
     "data": {
      "image/png": "[encoded data removed]",
      "text/plain": [
       "<Figure size 432x288 with 1 Axes>"
      ]
     },
     "metadata": {},
     "output_type": "display_data"
    }
   ],
   "source": [
    "time_in_range = tracks[(tracks['time_signature'] >= 3) & (tracks['time_signature'] <= 7)]\n",
    "simple_boxplot(time_in_range, 'time_signature', 'Time Signature')\n",
    "plt.show()"
   ]
  },
  {
   "cell_type": "markdown",
   "id": "7b273762",
   "metadata": {},
   "source": [
    "Not surprisingly, almost every song on my list is in 4, as most popular music is today. I am not necessarily opposed to listening to songs that aren't in 4, but it certainly feels easier to run to music with an even time signature. Thus, we will limit our search to songs that are just in 4.\n",
    "\n",
    "### 5. Loudness\n",
    "\n",
    "Next, let's look at loudness. The Spotify documentation [1] has the following to say about loudness:\n",
    "\n",
    "* <b>Loudness:</b> The overall loudness of a track in decibels (dB). Loudness values are averaged across the entire track and are useful for comparing relative loudness of tracks. Loudness is the quality of a sound that is the primary psychological correlate of physical strength (amplitude). Values typically range between -60 and 0 db."
   ]
  },
  {
   "cell_type": "code",
   "execution_count": 16,
   "id": "1d4ab83c",
   "metadata": {},
   "outputs": [
    {
     "data": {
      "image/png": "[encoded data removed]",
      "text/plain": [
       "<Figure size 432x288 with 1 Axes>"
      ]
     },
     "metadata": {},
     "output_type": "display_data"
    }
   ],
   "source": [
    "simple_boxplot(tracks, 'loudness', 'Loudness (dB)')\n",
    "plt.show()"
   ]
  },
  {
   "cell_type": "markdown",
   "id": "8eff7cd0",
   "metadata": {},
   "source": [
    "It's a bit difficult to wrap my head around the concept of loudness because Spotify normalizes the actual volume of each track. However, the data clearly shows that I listen to songs with a relatively narrow range of loudness, from -7.74 at the 25th percentile to -5.27 at the 75th percentile. On the one hand, this is certainly interesting. On the other hand, it seems like it might unnecessarily restrict the choice of songs. As a compromise, let's look for songs that cover the full range of loudness in the tracks on my current playlist, from -13.95 to -2.08.\n",
    "\n",
    "### 6. Tempo\n",
    "\n",
    "Let's look at the tempo of songs that I listen to while running. Spotify says the following about tempo [1]:\n",
    "\n",
    "* <b>tempo:</b> The overall estimated tempo of a track in beats per minute (BPM). In musical terminology, tempo is the speed or pace of a given piece and derives directly from the average beat duration.\n",
    "\n",
    "I specifically target songs that have a BPM of about 180 or 90 because I like to run at about 180 steps per minute. So, to visualize this data, let's split the songs into two groups and visualize each group."
   ]
  },
  {
   "cell_type": "code",
   "execution_count": 17,
   "id": "841c2e06",
   "metadata": {},
   "outputs": [
    {
     "data": {
      "image/png": "[encoded data removed]",
      "text/plain": [
       "<Figure size 432x288 with 2 Axes>"
      ]
     },
     "metadata": {},
     "output_type": "display_data"
    }
   ],
   "source": [
    "tracks['tempo_slow'] = 0\n",
    "tracks.loc[tracks['tempo'] < 135, 'tempo_slow'] = 1\n",
    "\n",
    "fig, (ax0, ax1) = plt.subplots(ncols=2)\n",
    "simple_boxplot(tracks[tracks['tempo_slow'] == 0], 'tempo', 'Tempo (BPM)', ax=ax0)\n",
    "simple_boxplot(tracks[tracks['tempo_slow'] == 1], 'tempo', 'Tempo (BPM)', ax=ax1)\n",
    "plt.show()"
   ]
  },
  {
   "cell_type": "markdown",
   "id": "ab765fcf",
   "metadata": {},
   "source": [
    "I tend to get songs pretty close to the correct tempo, but there is definitely some variation. To keep things simple and close to 90 or 180, we can target songs with tempos from 87.5 to 92.5 or 175 to 185.\n",
    "\n",
    "### 7. Track Popularity\n",
    "\n",
    "Finally, let's look at track popularity. From the Spotify documentation [2]:\n",
    "\n",
    "* <b>popularity:</b> The popularity of a track is a value between 0 and 100, with 100 being the most popular. The popularity is calculated by algorithm and is based, in the most part, on the total number of plays the track has had and how recent those plays are."
   ]
  },
  {
   "cell_type": "code",
   "execution_count": 18,
   "id": "db109ad5",
   "metadata": {},
   "outputs": [
    {
     "data": {
      "image/png": "[encoded data removed]",
      "text/plain": [
       "<Figure size 432x288 with 1 Axes>"
      ]
     },
     "metadata": {},
     "output_type": "display_data"
    }
   ],
   "source": [
    "simple_boxplot(tracks, 'track_pop', 'Track Popularity')"
   ]
  },
  {
   "cell_type": "markdown",
   "id": "c7fd7d13",
   "metadata": {},
   "source": [
    "The tracks on my list span a wide range of popularity levels, from about 0 to almost 90. What's interesting is that the popularity distribution isn't more skewed. One would think that the distribution would skew more towards the higher end simply because more popular tracks are more likely to be listened to, but the median track popularity is only 54. As with some of the other measures above, I wouldn't necessarily limit songs on my playlist simply because they are outside of a given popularity range, but it is still interesting to look at the data."
   ]
  },
  {
   "cell_type": "markdown",
   "id": "fbd1a22e",
   "metadata": {},
   "source": [
    "## IV. Conclusion\n",
    "\n",
    "This analysis revealed some interesting information about the music I listen to while running that might help choose more songs to listen to. We came up with a list of genres and artists to look for in the database. We also found out that I like to listen to music with specific audio features, and we found ranges for these values that might help limit our search:\n",
    "\n",
    "* Danceability >= 0.52\n",
    "* Energy >= 0.61\n",
    "* Speechiness <= 0.26\n",
    "* Acousticness <= 0.20\n",
    "* Valence >= 0.39\n",
    "* Loudness >= -13.95 and <= -2.08\n",
    "* Time signature = 4\n",
    "* Tempo >= 87.5 and <= 92.5 OR >= 175 and <= 185\n",
    "\n",
    "Next, we will use these ranges to populate a new playlist of songs."
   ]
  },
  {
   "cell_type": "markdown",
   "id": "1b49c9e4",
   "metadata": {},
   "source": [
    "## V. References\n",
    "\n",
    "1. 'Get Track's Audio Features'. Spotify for Developers: Web API Reference. https://developer.spotify.com/documentation/web-api/reference/#/operations/get-audio-features.\n",
    "2. 'Get Track'. Spotify for Developers: Web API Reference. https://developer.spotify.com/documentation/web-api/reference/#/operations/get-track."
   ]
  }
 ],
 "metadata": {
  "kernelspec": {
   "display_name": "running_playlist_2",
   "language": "python",
   "name": "running_playlist_2"
  },
  "language_info": {
   "codemirror_mode": {
    "name": "ipython",
    "version": 3
   },
   "file_extension": ".py",
   "mimetype": "text/x-python",
   "name": "python",
   "nbconvert_exporter": "python",
   "pygments_lexer": "ipython3",
   "version": "3.8.8"
  }
 },
 "nbformat": 4,
 "nbformat_minor": 5
}
